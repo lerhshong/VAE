{
 "cells": [
  {
   "cell_type": "code",
   "execution_count": 1,
   "metadata": {},
   "outputs": [],
   "source": [
    "import numpy as np\n",
    "import matplotlib.pyplot as plt"
   ]
  },
  {
   "cell_type": "markdown",
   "metadata": {},
   "source": [
    "Try to implement a Nnet that is:\n",
    "\n",
    "Inputs -> FC -> ReLU -> FC -> Softmax"
   ]
  },
  {
   "cell_type": "code",
   "execution_count": 2,
   "metadata": {},
   "outputs": [],
   "source": [
    "def relu(x, derivative = False):\n",
    "    res = x\n",
    "    if derivative == True:\n",
    "        return (res > 0)*1\n",
    "    else:\n",
    "        return res * (res > 0)\n",
    "\n",
    "def sigmoid(x, derivative = False):\n",
    "    res = 1/(1 + np.exp(-x))\n",
    "    if derivative == True:\n",
    "        return res * (1 - res)\n",
    "    else:\n",
    "        return res"
   ]
  },
  {
   "cell_type": "code",
   "execution_count": 3,
   "metadata": {},
   "outputs": [],
   "source": [
    "INPUT_SIZE = 3\n",
    "HIDDEN_LAYER_SIZE = 4\n",
    "NUMBER_DATAPOINTS = 5\n",
    "LEARNING_RATE = 1"
   ]
  },
  {
   "cell_type": "code",
   "execution_count": 7,
   "metadata": {},
   "outputs": [
    {
     "name": "stdout",
     "output_type": "stream",
     "text": [
      "The loss from pass 0 is: 0.2500001267597164\n"
     ]
    }
   ],
   "source": [
    "# Testing that everything works before converting to a class\n",
    "np.random.seed(0)\n",
    "alpha = LEARNING_RATE # Just to stop seeing so many capital letters flying around.\n",
    "test_inputs = np.random.randn(INPUT_SIZE, NUMBER_DATAPOINTS)\n",
    "W_1 = np.random.randn(HIDDEN_LAYER_SIZE, INPUT_SIZE) * 1e-3\n",
    "b_1 = np.zeros(shape=(HIDDEN_LAYER_SIZE, 1))\n",
    "W_2 = np.random.randn(1, HIDDEN_LAYER_SIZE) * 1e-3\n",
    "b_2 = np.zeros(shape=(1, NUMBER_DATAPOINTS))\n",
    "test_truth = (np.random.sample(NUMBER_DATAPOINTS) >= 0.5)*1\n",
    "losses = []\n",
    "\n",
    "for i in range(100):\n",
    "    # Forward pass\n",
    "    z_1 = W_1.dot(test_inputs) + b_1\n",
    "    a_1 = relu(z_1)\n",
    "    z_2 = W_2.dot(a_1) + b_2\n",
    "    a_2 = sigmoid(z_2)\n",
    "\n",
    "    assert(a_2.shape == (1, NUMBER_DATAPOINTS))\n",
    "\n",
    "    # Loss - go with simple L2 loss\n",
    "    loss = np.mean(np.square(test_truth - a_2))\n",
    "    if i % 10 == 0:\n",
    "        print('The loss from pass {} is: '.format(i) + str(loss))\n",
    "\n",
    "    # Backward pass\n",
    "    # Need one for W_1, b_1, W_2, b_2\n",
    "    grad_a_2 = -2 * (test_truth - a_2) # Save a_2 in forward pass\n",
    "    grad_z_2 = np.multiply(grad_a_2,sigmoid(z_2, derivative=True))\n",
    "    grad_b_2 = np.squeeze((1/NUMBER_DATAPOINTS)*np.sum(grad_z_2,axis=1,keepdims=True))\n",
    "    grad_W_2 = grad_z_2.dot(a_1.T)\n",
    "    grad_a_1 = W_2.T.dot(grad_z_2)\n",
    "    grad_z_1 = np.multiply(relu(z_1, derivative = True), grad_a_1)\n",
    "    grad_b_1 = np.squeeze((1/NUMBER_DATAPOINTS)*np.sum(grad_z_1,axis=1,keepdims=True))\n",
    "    grad_W_1 = grad_z_1.dot(test_inputs.T)\n",
    "\n",
    "    # Do your gradient updates.\n",
    "    b_2 -= alpha* grad_b_2\n",
    "    W_2 -= alpha* grad_W_2\n",
    "    b_1 -= alpha* grad_b_1\n",
    "    W_1 -= alpha* grad_W_1\n",
    "    losses.append(loss)"
   ]
  },
  {
   "cell_type": "code",
   "execution_count": 8,
   "metadata": {},
   "outputs": [
    {
     "data": {
      "text/plain": [
       "[<matplotlib.lines.Line2D at 0x11b92f860>]"
      ]
     },
     "execution_count": 8,
     "metadata": {},
     "output_type": "execute_result"
    },
    {
     "data": {
      "image/png": "[encoded data removed]",
      "text/plain": [
       "<Figure size 432x288 with 1 Axes>"
      ]
     },
     "metadata": {},
     "output_type": "display_data"
    }
   ],
   "source": [
    "plt.plot(losses)"
   ]
  },
  {
   "cell_type": "code",
   "execution_count": 9,
   "metadata": {},
   "outputs": [
    {
     "data": {
      "text/plain": [
       "(0.2500001963111743, 0.2500001267597164, 0.00034775728963154506)"
      ]
     },
     "execution_count": 9,
     "metadata": {},
     "output_type": "execute_result"
    }
   ],
   "source": [
    "grad_approx = (loss_plus - loss) / 2e-4\n",
    "loss_plus, loss, grad_approx"
   ]
  },
  {
   "cell_type": "code",
   "execution_count": 10,
   "metadata": {},
   "outputs": [
    {
     "data": {
      "text/plain": [
       "(0.0008559820215119814, 0.0015553643233316072, 0.5503418129576604)"
      ]
     },
     "execution_count": 10,
     "metadata": {},
     "output_type": "execute_result"
    }
   ],
   "source": [
    "numerator = np.linalg.norm(grad_W_2 - grad_approx)\n",
    "denominator = np.linalg.norm(grad_W_2) + np.linalg.norm(grad_approx)\n",
    "numerator, denominator, numerator/denominator"
   ]
  },
  {
   "cell_type": "code",
   "execution_count": 5,
   "metadata": {},
   "outputs": [],
   "source": [
    "# Now try to wrap all of this up into an FC layer plus an output layer?\n",
    "class FC_layer():\n",
    "    def __init__(self, input_size, batch_size, layer_size, init_scale, activation = 'relu'):\n",
    "        self.input_size = input_size\n",
    "        self.batch_size = batch_size\n",
    "        self.layer_size = layer_size\n",
    "        self.weight = np.random.randn(layer_size, input_size) * init_scale\n",
    "        self.bias = np.random.randn(layer_size,1) * init_scale\n",
    "        self.activation = activation\n",
    "        \n",
    "    def relu(x, derivative = False):\n",
    "        res = x\n",
    "        if derivative == True:\n",
    "            return (res > 0)*1\n",
    "        else:\n",
    "            return res * (res > 0)\n",
    "\n",
    "    def sigmoid(x, derivative = False):\n",
    "        res = 1/(1 + np.exp(-x))\n",
    "        if derivative == True:\n",
    "            return res * (1 - res)\n",
    "        else:\n",
    "            return res\n",
    "    activation_zoo = {'relu': relu, 'sigmoid': sigmoid}\n",
    "    \n",
    "    def forward(input, activation):\n",
    "        assert input.shape == (self.input_size, self.batch_size)\n",
    "        activation_fn = activation_zoo[activation]\n",
    "        W = self.weight\n",
    "        b = self.bias\n",
    "        z = W.dot(input) + b\n",
    "        a = activation(z)\n",
    "        cache = {\n",
    "            'W': W,\n",
    "            'b': b,\n",
    "            'z': z,\n",
    "            'a': a,\n",
    "        }\n",
    "        self.cache = cache\n",
    "    \n",
    "    def backward(upstream_gradient, cache):\n",
    "        # Cache needs to be the previous layer's cache!\n",
    "        activation_fn = activation_zoo[activation]\n",
    "        grad_z = np.multiply(activation_fn(z, derivative=True), upstream_gradient)\n",
    "        grad_b = (1/self.batch_size) * np.sum(grad_z, axis=1, keepdims = True)\n",
    "        grad_w = upstream_gradient.dot(cache[a].T) # Use previous layers' activation\n",
    "        return grad_z # That is the next upstream gradient to pass down."
   ]
  }
 ],
 "metadata": {
  "kernelspec": {
   "display_name": "Python 3",
   "language": "python",
   "name": "python3"
  },
  "language_info": {
   "codemirror_mode": {
    "name": "ipython",
    "version": 3
   },
   "file_extension": ".py",
   "mimetype": "text/x-python",
   "name": "python",
   "nbconvert_exporter": "python",
   "pygments_lexer": "ipython3",
   "version": "3.6.5"
  }
 },
 "nbformat": 4,
 "nbformat_minor": 2
}
